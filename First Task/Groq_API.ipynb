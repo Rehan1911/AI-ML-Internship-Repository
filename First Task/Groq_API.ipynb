{
  "nbformat": 4,
  "nbformat_minor": 0,
  "metadata": {
    "colab": {
      "provenance": []
    },
    "kernelspec": {
      "name": "python3",
      "display_name": "Python 3"
    },
    "language_info": {
      "name": "python"
    }
  },
  "cells": [
    {
      "cell_type": "code",
      "execution_count": 1,
      "metadata": {
        "colab": {
          "base_uri": "https://localhost:8080/"
        },
        "id": "PcxcajBE7IY8",
        "outputId": "3fe0c52a-1b74-42c5-ab87-38892704e387"
      },
      "outputs": [
        {
          "output_type": "stream",
          "name": "stdout",
          "text": [
            "Collecting langchain_groq\n",
            "  Downloading langchain_groq-0.3.1-py3-none-any.whl.metadata (2.6 kB)\n",
            "Collecting langchain-core<1.0.0,>=0.3.47 (from langchain_groq)\n",
            "  Downloading langchain_core-0.3.47-py3-none-any.whl.metadata (5.9 kB)\n",
            "Collecting groq<1,>=0.4.1 (from langchain_groq)\n",
            "  Downloading groq-0.20.0-py3-none-any.whl.metadata (15 kB)\n",
            "Requirement already satisfied: anyio<5,>=3.5.0 in /usr/local/lib/python3.11/dist-packages (from groq<1,>=0.4.1->langchain_groq) (4.9.0)\n",
            "Requirement already satisfied: distro<2,>=1.7.0 in /usr/local/lib/python3.11/dist-packages (from groq<1,>=0.4.1->langchain_groq) (1.9.0)\n",
            "Requirement already satisfied: httpx<1,>=0.23.0 in /usr/local/lib/python3.11/dist-packages (from groq<1,>=0.4.1->langchain_groq) (0.28.1)\n",
            "Requirement already satisfied: pydantic<3,>=1.9.0 in /usr/local/lib/python3.11/dist-packages (from groq<1,>=0.4.1->langchain_groq) (2.10.6)\n",
            "Requirement already satisfied: sniffio in /usr/local/lib/python3.11/dist-packages (from groq<1,>=0.4.1->langchain_groq) (1.3.1)\n",
            "Requirement already satisfied: typing-extensions<5,>=4.10 in /usr/local/lib/python3.11/dist-packages (from groq<1,>=0.4.1->langchain_groq) (4.12.2)\n",
            "Requirement already satisfied: langsmith<0.4,>=0.1.125 in /usr/local/lib/python3.11/dist-packages (from langchain-core<1.0.0,>=0.3.47->langchain_groq) (0.3.15)\n",
            "Requirement already satisfied: tenacity!=8.4.0,<10.0.0,>=8.1.0 in /usr/local/lib/python3.11/dist-packages (from langchain-core<1.0.0,>=0.3.47->langchain_groq) (9.0.0)\n",
            "Requirement already satisfied: jsonpatch<2.0,>=1.33 in /usr/local/lib/python3.11/dist-packages (from langchain-core<1.0.0,>=0.3.47->langchain_groq) (1.33)\n",
            "Requirement already satisfied: PyYAML>=5.3 in /usr/local/lib/python3.11/dist-packages (from langchain-core<1.0.0,>=0.3.47->langchain_groq) (6.0.2)\n",
            "Requirement already satisfied: packaging<25,>=23.2 in /usr/local/lib/python3.11/dist-packages (from langchain-core<1.0.0,>=0.3.47->langchain_groq) (24.2)\n",
            "Requirement already satisfied: idna>=2.8 in /usr/local/lib/python3.11/dist-packages (from anyio<5,>=3.5.0->groq<1,>=0.4.1->langchain_groq) (3.10)\n",
            "Requirement already satisfied: certifi in /usr/local/lib/python3.11/dist-packages (from httpx<1,>=0.23.0->groq<1,>=0.4.1->langchain_groq) (2025.1.31)\n",
            "Requirement already satisfied: httpcore==1.* in /usr/local/lib/python3.11/dist-packages (from httpx<1,>=0.23.0->groq<1,>=0.4.1->langchain_groq) (1.0.7)\n",
            "Requirement already satisfied: h11<0.15,>=0.13 in /usr/local/lib/python3.11/dist-packages (from httpcore==1.*->httpx<1,>=0.23.0->groq<1,>=0.4.1->langchain_groq) (0.14.0)\n",
            "Requirement already satisfied: jsonpointer>=1.9 in /usr/local/lib/python3.11/dist-packages (from jsonpatch<2.0,>=1.33->langchain-core<1.0.0,>=0.3.47->langchain_groq) (3.0.0)\n",
            "Requirement already satisfied: orjson<4.0.0,>=3.9.14 in /usr/local/lib/python3.11/dist-packages (from langsmith<0.4,>=0.1.125->langchain-core<1.0.0,>=0.3.47->langchain_groq) (3.10.15)\n",
            "Requirement already satisfied: requests<3,>=2 in /usr/local/lib/python3.11/dist-packages (from langsmith<0.4,>=0.1.125->langchain-core<1.0.0,>=0.3.47->langchain_groq) (2.32.3)\n",
            "Requirement already satisfied: requests-toolbelt<2.0.0,>=1.0.0 in /usr/local/lib/python3.11/dist-packages (from langsmith<0.4,>=0.1.125->langchain-core<1.0.0,>=0.3.47->langchain_groq) (1.0.0)\n",
            "Requirement already satisfied: zstandard<0.24.0,>=0.23.0 in /usr/local/lib/python3.11/dist-packages (from langsmith<0.4,>=0.1.125->langchain-core<1.0.0,>=0.3.47->langchain_groq) (0.23.0)\n",
            "Requirement already satisfied: annotated-types>=0.6.0 in /usr/local/lib/python3.11/dist-packages (from pydantic<3,>=1.9.0->groq<1,>=0.4.1->langchain_groq) (0.7.0)\n",
            "Requirement already satisfied: pydantic-core==2.27.2 in /usr/local/lib/python3.11/dist-packages (from pydantic<3,>=1.9.0->groq<1,>=0.4.1->langchain_groq) (2.27.2)\n",
            "Requirement already satisfied: charset-normalizer<4,>=2 in /usr/local/lib/python3.11/dist-packages (from requests<3,>=2->langsmith<0.4,>=0.1.125->langchain-core<1.0.0,>=0.3.47->langchain_groq) (3.4.1)\n",
            "Requirement already satisfied: urllib3<3,>=1.21.1 in /usr/local/lib/python3.11/dist-packages (from requests<3,>=2->langsmith<0.4,>=0.1.125->langchain-core<1.0.0,>=0.3.47->langchain_groq) (2.3.0)\n",
            "Downloading langchain_groq-0.3.1-py3-none-any.whl (15 kB)\n",
            "Downloading groq-0.20.0-py3-none-any.whl (124 kB)\n",
            "\u001b[2K   \u001b[90m━━━━━━━━━━━━━━━━━━━━━━━━━━━━━━━━━━━━━━━━\u001b[0m \u001b[32m124.9/124.9 kB\u001b[0m \u001b[31m7.2 MB/s\u001b[0m eta \u001b[36m0:00:00\u001b[0m\n",
            "\u001b[?25hDownloading langchain_core-0.3.47-py3-none-any.whl (417 kB)\n",
            "\u001b[2K   \u001b[90m━━━━━━━━━━━━━━━━━━━━━━━━━━━━━━━━━━━━━━━━\u001b[0m \u001b[32m417.1/417.1 kB\u001b[0m \u001b[31m10.8 MB/s\u001b[0m eta \u001b[36m0:00:00\u001b[0m\n",
            "\u001b[?25hInstalling collected packages: groq, langchain-core, langchain_groq\n",
            "  Attempting uninstall: langchain-core\n",
            "    Found existing installation: langchain-core 0.3.45\n",
            "    Uninstalling langchain-core-0.3.45:\n",
            "      Successfully uninstalled langchain-core-0.3.45\n",
            "Successfully installed groq-0.20.0 langchain-core-0.3.47 langchain_groq-0.3.1\n",
            "Response: Islamabad, the beautiful capital city of Pakistan! There are many amazing places to visit in Islamabad, but here are some of the most popular and must-see attractions:\n",
            "\n",
            "1. **Faisal Mosque**: A stunning mosque designed by Turkish architect Vedat Dalokay, it's a blend of modern and traditional Islamic architecture. The mosque's design is inspired by the Bedouin tent and is surrounded by beautiful gardens.\n",
            "2. **Pakistan Monument**: A symbol of the country's rich history and culture, this monument is a must-visit. It's a large, domed structure surrounded by four smaller domes, representing the four provinces of Pakistan.\n",
            "3. **Lok Virsa Museum**: A museum showcasing Pakistan's rich cultural heritage, with exhibits on traditional clothing, music, and crafts. You can also see traditional Pakistani homes and villages recreated inside the museum.\n",
            "4. **Quaid-e-Azam University**: A beautiful campus with stunning architecture and beautiful gardens. The university is named after Muhammad Ali Jinnah, the founder of Pakistan.\n",
            "5. **Dilazak Lake**: A scenic lake located in the foothills of the Margalla Hills, perfect for a relaxing day out or a picnic. You can also go boating or fishing here.\n",
            "6. **Margalla Hills**: A popular hiking spot with stunning views of the city. You can hike to the top of the hills and enjoy the sunset.\n",
            "7. **Saidpur Village**: A historic village located on the Margalla Hills, known for its traditional architecture and beautiful views of the city.\n",
            "8. **National Museum of Pakistan**: A museum showcasing Pakistan's history, art, and culture. You can see exhibits on Pakistani art, archaeology, and natural history.\n",
            "9. **Islamabad Zoo**: A popular attraction for families, with a wide range of animals, including lions, tigers, and bears.\n",
            "10. **Daman-e-Koh**: A viewpoint located on the Margalla Hills, offering stunning views of the city. You can also see the Pakistan Monument from here.\n",
            "\n",
            "These are just a few of the many amazing places to visit in Islamabad. Depending on your interests and the time of year you visit, there may be other attractions and activities worth exploring.\n"
          ]
        }
      ],
      "source": [
        "!pip install langchain_groq\n",
        "from langchain_groq import ChatGroq # This line is changed\n",
        "from langchain.prompts import ChatPromptTemplate #This line is changed\n",
        "\n",
        "# Initialize the ChatGroq model\n",
        "groq_api_key = \"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\"\n",
        "llm2 = ChatGroq(groq_api_key=groq_api_key, model_name=\"Llama3-8b-8192\")\n",
        "\n",
        "# Define a simple prompt to get the capital of Pakistan\n",
        "prompt = ChatPromptTemplate.from_template(\n",
        "    \"\"\"\n",
        "    What is the best place to visit in islamabad?\n",
        "    {response}\n",
        "    \"\"\"\n",
        ")\n",
        "\n",
        "# Invoke the prompt with the LLM\n",
        "# Changed llm to llm2 to match initialization\n",
        "# Pass an empty string or any other desired value for {response}\n",
        "response = llm2.invoke(prompt.format(response=\"\"))\n",
        "print(\"Response:\", response.content)"
      ]
    }
  ]
}